{
 "cells": [
  {
   "cell_type": "code",
   "execution_count": null,
   "id": "9f8dd0b9",
   "metadata": {},
   "outputs": [],
   "source": [
    "#Class Definition and Object Creation Create a Python class called \"Student\" that has the \n",
    "#following attributes: name, age, and grade. Define an initialization method to initialize \n",
    "#these attributes when an object of the class is created. Create an instance of the class and \n",
    "#set the attributes. Finally, print the attributes of the student object.\n",
    "\n",
    "class Student:\n",
    "   def __init__(self, name, age, grade):\n",
    "     self.name = name\n",
    "     self.age=age\n",
    "     self.grade=grade\n",
    "\n",
    "student_1 = Student('Asha', 22, 70)\n",
    "student_2 = Student('Himanshi', 23, 30)\n",
    "student_3 = Student('Naina', 22, 50)\n",
    "\n",
    "print(student_1.name)\n",
    "print(student_1.grade)\n",
    "print(student_2.name)\n"
   ]
  },
  {
   "cell_type": "code",
   "execution_count": 4,
   "id": "d8d58a30",
   "metadata": {},
   "outputs": [
    {
     "name": "stdout",
     "output_type": "stream",
     "text": [
      "Asha is passing: True\n",
      "Himanshi is passing: False\n",
      "Naina is passing: True\n"
     ]
    }
   ],
   "source": [
    "#Methods in a Class Extend the \"Student\" class from the previous question. \n",
    "#Add a method called \"is_passing\" that returns True if the student's grade \n",
    "#is greater than or equal to 50 and False otherwise. \n",
    "#Create an instance of the class and use this method to check if the student is passing. Display the result.\n",
    "\n",
    "class Student:\n",
    "   def __init__(self, name, age, grade):\n",
    "     self.name = name\n",
    "     self.age=age\n",
    "     self.grade=grade\n",
    "\n",
    "\n",
    "   def is_passing(self):\n",
    "      if (self.grade >= 50 ):\n",
    "        return True\n",
    "      else:\n",
    "        return False\n",
    "\n",
    "\n",
    "\n",
    "student_1 = Student('Asha', 22, 70)\n",
    "student_2 = Student('Himanshi', 23, 30)\n",
    "student_3 = Student('Naina', 22, 50)\n",
    "\n",
    "is_passing_1 = student_1.is_passing()\n",
    "print(f\"{student_1.name} is passing: {is_passing_1}\")\n",
    "\n",
    "is_passing_2 = student_2.is_passing()\n",
    "print(f\"{student_2.name} is passing: {is_passing_2}\")\n",
    "\n",
    "is_passing_3 = student_3.is_passing()\n",
    "print(f\"{student_3.name} is passing: {is_passing_3}\")"
   ]
  },
  {
   "cell_type": "code",
   "execution_count": 8,
   "id": "35a16d51",
   "metadata": {},
   "outputs": [
    {
     "name": "stdout",
     "output_type": "stream",
     "text": [
      "Asha\n",
      "Central Academy School\n"
     ]
    }
   ],
   "source": [
    "#Inheritance and Subclasses Create a new class called \"HighSchoolStudent\" that inherits from the \"Student\" class. \n",
    "#Add an additional attribute called school_name to the \"HighSchoolStudent\" class. \n",
    "#Create an instance of the \"HighSchoolStudent\" class and set both the attributes, \n",
    "#including the inherited attributes from the \"Student\" class. Print all the attributes of the high school student.\n",
    "\n",
    "class Student:\n",
    "   def __init__(self, name, age, grade):\n",
    "     self.name = name\n",
    "     self.age=age\n",
    "     self.grade=grade\n",
    "\n",
    "\n",
    "   def is_passing(self):\n",
    "      if (self.grade >= 50 ):\n",
    "        return True\n",
    "      else:\n",
    "        return False\n",
    "\n",
    "\n",
    "class HighSchoolStudent(Student):\n",
    "    school_name= \"Central Academy School\"\n",
    "    \n",
    "    \n",
    "student_1 = HighSchoolStudent('Asha', 22, 70)\n",
    "student_2 = HighSchoolStudent('Himanshi', 23, 30)\n",
    "student_3 = HighSchoolStudent('Naina', 22, 50)\n",
    "    \n",
    "    \n",
    "\n",
    "print(student_1.name)\n",
    "print(student_1.school_name)"
   ]
  },
  {
   "cell_type": "code",
   "execution_count": null,
   "id": "31126251",
   "metadata": {},
   "outputs": [],
   "source": [
    "#Function with Parameters Write a Python function called \"calculate_rectangle_area\" that takes two parameters, \n",
    "#length and width, and returns the area of a rectangle. \n",
    "#Call the function with different sets of values and display the results.\n",
    "\n",
    "\n",
    "def calculate_rectangle_area(length, width):\n",
    "   Area = length*width\n",
    "   print(\"Area of rectangle is:\", Area)\n",
    "\n",
    "calculate_rectangle_area(35, 45)"
   ]
  },
  {
   "cell_type": "code",
   "execution_count": 1,
   "id": "261614da",
   "metadata": {},
   "outputs": [
    {
     "name": "stdout",
     "output_type": "stream",
     "text": [
      "Hello Sparsh Hope you're doing good\n"
     ]
    }
   ],
   "source": [
    "#Function with Default Parameters Create a Python function called \"greet\" that \n",
    "#takes a name as a parameter and a greeting message as an optional parameter with a default value of \"Hello\". \n",
    "#The function should return a formatted greeting message. Test the function by calling it with and \n",
    "#without the optional parameter and display the results.\n",
    "\n",
    "def greet(name):\n",
    "   print(\"Hello\", name,\"Hope you're doing good\")\n",
    "\n",
    "greet(\"Sparsh\")"
   ]
  },
  {
   "cell_type": "code",
   "execution_count": 3,
   "id": "7132bd0a",
   "metadata": {},
   "outputs": [
    {
     "name": "stdout",
     "output_type": "stream",
     "text": [
      "Average of the list = 12.5\n"
     ]
    }
   ],
   "source": [
    "#Function with Variable Number of Arguments Write a Python function called \"calculate_average\" \n",
    "#that takes a variable number of arguments and calculates the average of those numbers. \n",
    "#Use this function to find the average of 5, 10, 15, and 20, and display the result.\n",
    "\n",
    "def Average(n): \n",
    "    return sum(n) / len(n) \n",
    " \n",
    "n = [5,10,15,20] \n",
    "average = Average(n) \n",
    " \n",
    "#Print Average \n",
    "print(\"Average of the list =\", round(average, 2)) \n"
   ]
  },
  {
   "cell_type": "code",
   "execution_count": null,
   "id": "2ce6f9fb",
   "metadata": {},
   "outputs": [],
   "source": []
  },
  {
   "cell_type": "code",
   "execution_count": null,
   "id": "94e5de1e",
   "metadata": {},
   "outputs": [],
   "source": []
  },
  {
   "cell_type": "code",
   "execution_count": null,
   "id": "d956881e",
   "metadata": {},
   "outputs": [],
   "source": []
  },
  {
   "cell_type": "code",
   "execution_count": null,
   "id": "01c9c5e0",
   "metadata": {},
   "outputs": [],
   "source": []
  },
  {
   "cell_type": "code",
   "execution_count": null,
   "id": "9a7715cb",
   "metadata": {},
   "outputs": [],
   "source": []
  },
  {
   "cell_type": "code",
   "execution_count": null,
   "id": "36455765",
   "metadata": {},
   "outputs": [],
   "source": []
  },
  {
   "cell_type": "code",
   "execution_count": null,
   "id": "c32bdb28",
   "metadata": {},
   "outputs": [],
   "source": []
  }
 ],
 "metadata": {
  "kernelspec": {
   "display_name": "Python 3 (ipykernel)",
   "language": "python",
   "name": "python3"
  },
  "language_info": {
   "codemirror_mode": {
    "name": "ipython",
    "version": 3
   },
   "file_extension": ".py",
   "mimetype": "text/x-python",
   "name": "python",
   "nbconvert_exporter": "python",
   "pygments_lexer": "ipython3",
   "version": "3.11.4"
  }
 },
 "nbformat": 4,
 "nbformat_minor": 5
}
